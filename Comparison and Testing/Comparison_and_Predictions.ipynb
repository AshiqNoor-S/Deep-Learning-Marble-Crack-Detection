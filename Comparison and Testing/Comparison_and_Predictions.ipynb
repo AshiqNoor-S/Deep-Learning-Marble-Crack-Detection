{
 "cells": [
  {
   "cell_type": "markdown",
   "id": "latest-imaging",
   "metadata": {},
   "source": [
    "### Comparison and Prediction Results"
   ]
  },
  {
   "cell_type": "code",
   "execution_count": 2,
   "id": "defensive-consent",
   "metadata": {},
   "outputs": [
    {
     "name": "stderr",
     "output_type": "stream",
     "text": [
      "C:\\Users\\user\\AppData\\Local\\Programs\\Python\\Python310\\lib\\site-packages\\scipy\\__init__.py:146: UserWarning: A NumPy version >=1.16.5 and <1.23.0 is required for this version of SciPy (detected version 1.24.4\n",
      "  warnings.warn(f\"A NumPy version >={np_minversion} and <{np_maxversion}\"\n"
     ]
    },
    {
     "name": "stdout",
     "output_type": "stream",
     "text": [
      "WARNING:tensorflow:From C:\\Users\\user\\AppData\\Local\\Programs\\Python\\Python310\\lib\\site-packages\\keras\\src\\losses.py:2976: The name tf.losses.sparse_softmax_cross_entropy is deprecated. Please use tf.compat.v1.losses.sparse_softmax_cross_entropy instead.\n",
      "\n"
     ]
    }
   ],
   "source": [
    "import keras\n",
    "from keras.preprocessing.image import ImageDataGenerator\n",
    "from tensorflow.keras.applications.resnet50 import ResNet50\n",
    "from tensorflow.keras.applications.resnet50 import preprocess_input as preprocess_resnet50_input\n",
    "from tensorflow.keras.applications.vgg16 import VGG16\n",
    "from tensorflow.keras.applications.vgg16 import preprocess_input as preprocess_vgg16_input"
   ]
  },
  {
   "cell_type": "markdown",
   "id": "naughty-process",
   "metadata": {},
   "source": [
    " #### Load both the models"
   ]
  },
  {
   "cell_type": "code",
   "execution_count": 4,
   "id": "lasting-spirit",
   "metadata": {},
   "outputs": [
    {
     "name": "stdout",
     "output_type": "stream",
     "text": [
      "WARNING:tensorflow:From C:\\Users\\user\\AppData\\Local\\Programs\\Python\\Python310\\lib\\site-packages\\keras\\src\\backend.py:1398: The name tf.executing_eagerly_outside_functions is deprecated. Please use tf.compat.v1.executing_eagerly_outside_functions instead.\n",
      "\n",
      "WARNING:tensorflow:From C:\\Users\\user\\AppData\\Local\\Programs\\Python\\Python310\\lib\\site-packages\\keras\\src\\layers\\pooling\\max_pooling2d.py:161: The name tf.nn.max_pool is deprecated. Please use tf.nn.max_pool2d instead.\n",
      "\n",
      "Model: \"sequential_1\"\n",
      "_________________________________________________________________\n",
      " Layer (type)                Output Shape              Param #   \n",
      "=================================================================\n",
      " resnet50 (Functional)       (None, 2048)              23587712  \n",
      "                                                                 \n",
      " dense_1 (Dense)             (None, 2)                 4098      \n",
      "                                                                 \n",
      "=================================================================\n",
      "Total params: 23591810 (90.00 MB)\n",
      "Trainable params: 4098 (16.01 KB)\n",
      "Non-trainable params: 23587712 (89.98 MB)\n",
      "_________________________________________________________________\n",
      "None\n",
      "Model: \"sequential\"\n",
      "_________________________________________________________________\n",
      " Layer (type)                Output Shape              Param #   \n",
      "=================================================================\n",
      " vgg16 (Functional)          (None, 512)               14714688  \n",
      "                                                                 \n",
      " dense (Dense)               (None, 2)                 1026      \n",
      "                                                                 \n",
      "=================================================================\n",
      "Total params: 14715714 (56.14 MB)\n",
      "Trainable params: 1026 (4.01 KB)\n",
      "Non-trainable params: 14714688 (56.13 MB)\n",
      "_________________________________________________________________\n",
      "None\n"
     ]
    }
   ],
   "source": [
    "resnet50 = keras.models.load_model('classifier_resnet_model.h5')\n",
    "vgg16 = keras.models.load_model('classifier_vgg16_model.h5')\n",
    "print(resnet50.summary())\n",
    "print(vgg16.summary())"
   ]
  },
  {
   "cell_type": "markdown",
   "id": "incredible-helicopter",
   "metadata": {},
   "source": [
    "#### Data Generation for testing"
   ]
  },
  {
   "cell_type": "code",
   "execution_count": 6,
   "id": "reduced-edmonton",
   "metadata": {},
   "outputs": [],
   "source": [
    "num_classes = 2\n",
    "\n",
    "image_resize = 224\n",
    "\n",
    "batch_size_training = 100\n",
    "batch_size_validation = 100"
   ]
  },
  {
   "cell_type": "code",
   "execution_count": 31,
   "id": "soviet-cooperative",
   "metadata": {},
   "outputs": [
    {
     "name": "stdout",
     "output_type": "stream",
     "text": [
      "Found 7243 images belonging to 2 classes.\n",
      "Found 7243 images belonging to 2 classes.\n"
     ]
    }
   ],
   "source": [
    "data_generator_resnet = ImageDataGenerator(\n",
    "    preprocessing_function=preprocess_resnet50_input,\n",
    ")\n",
    "\n",
    "test_resnet_generator = data_generator_resnet.flow_from_directory(\n",
    "    'concrete_data/validation',\n",
    "    target_size=(image_resize, image_resize),\n",
    "    batch_size=batch_size_training,\n",
    "    class_mode='categorical')\n",
    "\n",
    "data_generator_vgg = ImageDataGenerator(\n",
    "    preprocessing_function=preprocess_vgg16_input,\n",
    ")\n",
    "\n",
    "test_vgg_generator = data_generator_vgg.flow_from_directory(\n",
    "    'concrete_data/validation',\n",
    "    target_size=(image_resize, image_resize),\n",
    "    batch_size=batch_size_training,\n",
    "    class_mode='categorical')"
   ]
  },
  {
   "cell_type": "markdown",
   "id": "virgin-arrest",
   "metadata": {},
   "source": [
    "#### Evaluating the models"
   ]
  },
  {
   "cell_type": "code",
   "execution_count": 32,
   "id": "sound-server",
   "metadata": {},
   "outputs": [
    {
     "name": "stderr",
     "output_type": "stream",
     "text": [
      "C:\\Users\\user\\AppData\\Local\\Temp/ipykernel_22672/1033990696.py:1: UserWarning: `Model.evaluate_generator` is deprecated and will be removed in a future version. Please use `Model.evaluate`, which supports generators.\n",
      "  result_resnet = resnet50.evaluate_generator(\n"
     ]
    },
    {
     "name": "stdout",
     "output_type": "stream",
     "text": [
      "73/73 [==============================] - 322s 4s/step - loss: 0.0030 - accuracy: 0.9994\n"
     ]
    }
   ],
   "source": [
    "result_resnet = resnet50.evaluate_generator(\n",
    "    test_resnet_generator,\n",
    "    verbose=1)"
   ]
  },
  {
   "cell_type": "code",
   "execution_count": 33,
   "id": "incredible-export",
   "metadata": {},
   "outputs": [
    {
     "name": "stderr",
     "output_type": "stream",
     "text": [
      "C:\\Users\\user\\AppData\\Local\\Temp/ipykernel_22672/327617202.py:1: UserWarning: `Model.evaluate_generator` is deprecated and will be removed in a future version. Please use `Model.evaluate`, which supports generators.\n",
      "  result_vgg16 = vgg16.evaluate_generator(\n"
     ]
    },
    {
     "name": "stdout",
     "output_type": "stream",
     "text": [
      "73/73 [==============================] - 452s 6s/step - loss: 0.0170 - accuracy: 0.9957\n"
     ]
    }
   ],
   "source": [
    "result_vgg16 = vgg16.evaluate_generator(\n",
    "    test_vgg_generator,\n",
    "    verbose=1)"
   ]
  },
  {
   "cell_type": "markdown",
   "id": "conservative-coach",
   "metadata": {},
   "source": [
    "VGG16 Performance"
   ]
  },
  {
   "cell_type": "code",
   "execution_count": 34,
   "id": "excellent-politics",
   "metadata": {},
   "outputs": [
    {
     "name": "stdout",
     "output_type": "stream",
     "text": [
      "Accuracy: 0.9957200288772583\n",
      "Loss: 0.016984829679131508\n"
     ]
    }
   ],
   "source": [
    "print(f\"Accuracy: {result_vgg16[1]}\")\n",
    "print(f\"Loss: {result_vgg16[0]}\")"
   ]
  },
  {
   "cell_type": "markdown",
   "id": "floppy-juice",
   "metadata": {},
   "source": [
    "ResNet50 Performance"
   ]
  },
  {
   "cell_type": "code",
   "execution_count": 35,
   "id": "closed-inquiry",
   "metadata": {},
   "outputs": [
    {
     "name": "stdout",
     "output_type": "stream",
     "text": [
      "Accuracy: 0.999447762966156\n",
      "Loss: 0.003016134724020958\n"
     ]
    }
   ],
   "source": [
    "print(f\"Accuracy: {result_resnet[1]}\")\n",
    "print(f\"Loss: {result_resnet[0]}\")"
   ]
  },
  {
   "cell_type": "markdown",
   "id": "psychological-demand",
   "metadata": {},
   "source": [
    "Make predictions"
   ]
  },
  {
   "cell_type": "code",
   "execution_count": 36,
   "id": "bridal-young",
   "metadata": {},
   "outputs": [],
   "source": [
    "import numpy as np\n",
    "\n",
    "def get_predictions(predictions):\n",
    "    for pred in predictions:\n",
    "        position = np.argmax(pred)\n",
    "        if position == 1:\n",
    "            print(\"Positive\")\n",
    "        if position == 0:\n",
    "            print(\"Negative\")"
   ]
  },
  {
   "cell_type": "code",
   "execution_count": 37,
   "id": "lasting-columbia",
   "metadata": {},
   "outputs": [
    {
     "name": "stderr",
     "output_type": "stream",
     "text": [
      "C:\\Users\\user\\AppData\\Local\\Temp/ipykernel_22672/2491213823.py:1: UserWarning: `Model.predict_generator` is deprecated and will be removed in a future version. Please use `Model.predict`, which supports generators.\n",
      "  resnet_prediction = resnet50.predict_generator(\n"
     ]
    },
    {
     "name": "stdout",
     "output_type": "stream",
     "text": [
      "73/73 [==============================] - 288s 4s/step\n"
     ]
    }
   ],
   "source": [
    "resnet_prediction = resnet50.predict_generator(\n",
    "    test_resnet_generator,\n",
    "    verbose=1)"
   ]
  },
  {
   "cell_type": "code",
   "execution_count": null,
   "id": "further-lebanon",
   "metadata": {},
   "outputs": [
    {
     "name": "stderr",
     "output_type": "stream",
     "text": [
      "C:\\Users\\user\\AppData\\Local\\Temp/ipykernel_22672/1315888069.py:1: UserWarning: `Model.predict_generator` is deprecated and will be removed in a future version. Please use `Model.predict`, which supports generators.\n",
      "  vgg16_prediction = vgg16.predict_generator(\n"
     ]
    },
    {
     "name": "stdout",
     "output_type": "stream",
     "text": [
      "42/73 [================>.............] - ETA: 2:59"
     ]
    }
   ],
   "source": [
    "vgg16_prediction = vgg16.predict_generator(\n",
    "    test_vgg_generator,\n",
    "    verbose=1)"
   ]
  },
  {
   "cell_type": "markdown",
   "id": "marked-franklin",
   "metadata": {},
   "source": [
    "Class predictions report"
   ]
  },
  {
   "cell_type": "code",
   "execution_count": 41,
   "id": "manufactured-spice",
   "metadata": {},
   "outputs": [
    {
     "name": "stdout",
     "output_type": "stream",
     "text": [
      "Positive\n",
      "Positive\n",
      "Negative\n",
      "Positive\n",
      "Positive\n"
     ]
    }
   ],
   "source": [
    "get_predictions(resnet_prediction[:5])"
   ]
  },
  {
   "cell_type": "code",
   "execution_count": 42,
   "id": "virtual-suspect",
   "metadata": {},
   "outputs": [
    {
     "name": "stdout",
     "output_type": "stream",
     "text": [
      "Negative\n",
      "Negative\n",
      "Positive\n",
      "Positive\n",
      "Negative\n"
     ]
    }
   ],
   "source": [
    "get_predictions(vgg16_prediction[:5])"
   ]
  },
  {
   "cell_type": "code",
   "execution_count": null,
   "id": "optimum-fifty",
   "metadata": {},
   "outputs": [],
   "source": []
  }
 ],
 "metadata": {
  "kernelspec": {
   "display_name": "Python 3 (ipykernel)",
   "language": "python",
   "name": "python3"
  },
  "language_info": {
   "codemirror_mode": {
    "name": "ipython",
    "version": 3
   },
   "file_extension": ".py",
   "mimetype": "text/x-python",
   "name": "python",
   "nbconvert_exporter": "python",
   "pygments_lexer": "ipython3",
   "version": "3.10.0"
  }
 },
 "nbformat": 4,
 "nbformat_minor": 5
}
